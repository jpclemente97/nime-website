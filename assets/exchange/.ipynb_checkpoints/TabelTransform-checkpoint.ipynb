{
 "cells": [
  {
   "cell_type": "code",
   "execution_count": 10,
   "id": "bbecca65-7679-461b-9bb1-4a1c630b8ffa",
   "metadata": {},
   "outputs": [],
   "source": [
    "#requirements\n",
    "#python 3.11\n",
    "#pandas\n",
    "#os\n",
    "\n",
    "import os\n",
    "import pandas as pd\n"
   ]
  },
  {
   "cell_type": "code",
   "execution_count": 11,
   "id": "21504f6c-40f0-4180-836e-88a54ff28f39",
   "metadata": {},
   "outputs": [
    {
     "name": "stdout",
     "output_type": "stream",
     "text": [
      "['Paper', 'Technical Support', 'Location', 'Video', 'Software dependencies', 'Allowed borrowers', 'Collaborating with borrower', 'OS dependency', 'Documentation', 'Hardware integrity', 'Other information', 'Dimension and weight', 'Borrowing terms', 'Last update', 'How to borrow', 'Working condition', 'Webpage']\n"
     ]
    }
   ],
   "source": [
    "#filenames\n",
    "raw_table_filename = 'NIMExchange Form.csv'\n",
    "exported_table_filename = 'exchange-table.csv'\n",
    "exported_table_small_filename = 'exchange-table-small.csv'\n",
    "\n",
    "#columns\n",
    "columns_to_drop = ['Timestamp','Username']\n",
    "\n",
    "columns_original_id = ['Name of the NIME',\t'Description', 'Paper', 'Webpage', 'Picture', 'Video', \n",
    "                            'Name of owner', 'Email of owner', 'Geographical location', 'Borrowing terms',\n",
    "                            'Allowed borrowers', 'Interest in collaborating with borrower', 'How to borrow',\n",
    "                            'Documentation', 'Working condition', 'Technical Support',\n",
    "                            'Hardware integrity', 'Year of manufacturing or last update',\n",
    "                            'Software dependencies', 'Operating system dependency',\n",
    "                            'Dimension and weight',\t'Other information']\n",
    "\n",
    "column_renamed_id = ['NIME', 'Description', 'Paper', 'Webpage', 'Picture', 'Video', \n",
    "                            'Owner', 'Email', 'Location', 'Borrowing terms',\n",
    "                            'Allowed borrowers', 'Collaborating with borrower', 'How to borrow',\n",
    "                            'Documentation', 'Working condition', 'Technical Support',\n",
    "                            'Hardware integrity', 'Last update',\n",
    "                            'Software dependencies', 'OS dependency',\n",
    "                            'Dimension and weight',\t'Other information']\n",
    "\n",
    "columns_small_id = ['NIME', 'Description', 'Picture', 'Owner', 'Email'] \n",
    "\n",
    "columns_renaming_dict = {}\n",
    "for key,value in zip(columns_original_id,column_renamed_id):\n",
    "    columns_renaming_dict[key] = value\n",
    "\n",
    "columns_to_drop_small = list(set(column_renamed_id) - set(columns_small_id))\n",
    "\n",
    "#dropping sensitive columns and renaming columns\n",
    "table_full = pd.read_csv(raw_table_filename)\n",
    "table_full = table_full.drop(columns=columns_to_drop)\n",
    "table_full = table_full.rename(columns=columns_renaming_dict)\n",
    "\n",
    "#masking emails\n",
    "for index, row in table_full.iterrows():\n",
    "    email = row['Email']\n",
    "    email = email.replace(\"@\", \"_at_\")\n",
    "    email = email.replace(\".\", \"_dot_\")\n",
    "    table_full.at[index,'Email'] = email\n",
    "\n",
    "#generating partial table\n",
    "table_small = table_full.drop(columns=columns_to_drop_small)\n",
    "\n",
    "table_full.to_csv(exported_table_filename, index=False)\n",
    "table_small.to_csv(exported_table_small_filename, index=False)\n",
    "\n",
    "if os.path.exists(raw_table_filename):\n",
    "    os.remove(raw_table_filename)"
   ]
  },
  {
   "cell_type": "code",
   "execution_count": null,
   "id": "ed80b8ac-ed5a-4f63-9e36-9ebeb4a64d77",
   "metadata": {},
   "outputs": [],
   "source": []
  }
 ],
 "metadata": {
  "kernelspec": {
   "display_name": "Python 3 (ipykernel)",
   "language": "python",
   "name": "python3"
  },
  "language_info": {
   "codemirror_mode": {
    "name": "ipython",
    "version": 3
   },
   "file_extension": ".py",
   "mimetype": "text/x-python",
   "name": "python",
   "nbconvert_exporter": "python",
   "pygments_lexer": "ipython3",
   "version": "3.11.7"
  }
 },
 "nbformat": 4,
 "nbformat_minor": 5
}
